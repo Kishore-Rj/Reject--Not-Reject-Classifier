{
 "cells": [
  {
   "cell_type": "code",
   "execution_count": 3,
   "metadata": {
    "collapsed": true
   },
   "outputs": [],
   "source": [
    "import pandas as pd\n"
   ]
  },
  {
   "cell_type": "code",
   "execution_count": null,
   "metadata": {
    "collapsed": true
   },
   "outputs": [],
   "source": [
    "df = pd.read_excel(\"/Users/kishoreraj/Documents/rejects.xlsx\")"
   ]
  },
  {
   "cell_type": "code",
   "execution_count": 3,
   "metadata": {},
   "outputs": [
    {
     "data": {
      "text/html": [
       "<div>\n",
       "<style>\n",
       "    .dataframe thead tr:only-child th {\n",
       "        text-align: right;\n",
       "    }\n",
       "\n",
       "    .dataframe thead th {\n",
       "        text-align: left;\n",
       "    }\n",
       "\n",
       "    .dataframe tbody tr th {\n",
       "        vertical-align: top;\n",
       "    }\n",
       "</style>\n",
       "<table border=\"1\" class=\"dataframe\">\n",
       "  <thead>\n",
       "    <tr style=\"text-align: right;\">\n",
       "      <th></th>\n",
       "      <th>Email</th>\n",
       "      <th>Status</th>\n",
       "    </tr>\n",
       "  </thead>\n",
       "  <tbody>\n",
       "    <tr>\n",
       "      <th>0</th>\n",
       "      <td>Thank you for your keen interest and applying ...</td>\n",
       "      <td>Reject</td>\n",
       "    </tr>\n",
       "    <tr>\n",
       "      <th>1</th>\n",
       "      <td>Thank you for submitting your resume to Grubhu...</td>\n",
       "      <td>Not_Reject</td>\n",
       "    </tr>\n",
       "    <tr>\n",
       "      <th>2</th>\n",
       "      <td>Thank you for submitting your resume to Red Ve...</td>\n",
       "      <td>Reject</td>\n",
       "    </tr>\n",
       "    <tr>\n",
       "      <th>3</th>\n",
       "      <td>Thank you for applying to the Data Scientist o...</td>\n",
       "      <td>Reject</td>\n",
       "    </tr>\n",
       "    <tr>\n",
       "      <th>4</th>\n",
       "      <td>Thank you for taking your time to apply to the...</td>\n",
       "      <td>Reject</td>\n",
       "    </tr>\n",
       "    <tr>\n",
       "      <th>5</th>\n",
       "      <td>My name is Sravan and I'm an IT recruiter at P...</td>\n",
       "      <td>Not_Reject</td>\n",
       "    </tr>\n",
       "    <tr>\n",
       "      <th>6</th>\n",
       "      <td>Thank you very much for your recent applicatio...</td>\n",
       "      <td>Not_Reject</td>\n",
       "    </tr>\n",
       "    <tr>\n",
       "      <th>7</th>\n",
       "      <td>Greetings!  I hope that you are all enjoying a...</td>\n",
       "      <td>Not_Reject</td>\n",
       "    </tr>\n",
       "    <tr>\n",
       "      <th>8</th>\n",
       "      <td>Thank you for your interest in Goldman Sachs. ...</td>\n",
       "      <td>Not_Reject</td>\n",
       "    </tr>\n",
       "    <tr>\n",
       "      <th>9</th>\n",
       "      <td>Your application for the Data Analyst position...</td>\n",
       "      <td>Not_Reject</td>\n",
       "    </tr>\n",
       "    <tr>\n",
       "      <th>10</th>\n",
       "      <td>We have received your application for the posi...</td>\n",
       "      <td>Not_Reject</td>\n",
       "    </tr>\n",
       "    <tr>\n",
       "      <th>11</th>\n",
       "      <td>Thanks for applying to IPG Mediabrands, a new ...</td>\n",
       "      <td>Not_Reject</td>\n",
       "    </tr>\n",
       "    <tr>\n",
       "      <th>12</th>\n",
       "      <td>Thank you for your interest in Financial Analy...</td>\n",
       "      <td>Reject</td>\n",
       "    </tr>\n",
       "    <tr>\n",
       "      <th>13</th>\n",
       "      <td>Thanks for your interest in Bank of America. W...</td>\n",
       "      <td>Not_Reject</td>\n",
       "    </tr>\n",
       "    <tr>\n",
       "      <th>14</th>\n",
       "      <td>After careful review, we have decided not to m...</td>\n",
       "      <td>Reject</td>\n",
       "    </tr>\n",
       "    <tr>\n",
       "      <th>15</th>\n",
       "      <td>Thank you for applying to the Data Scientist p...</td>\n",
       "      <td>Reject</td>\n",
       "    </tr>\n",
       "    <tr>\n",
       "      <th>16</th>\n",
       "      <td>Installment amounts for your payment plan have...</td>\n",
       "      <td>Not_Reject</td>\n",
       "    </tr>\n",
       "    <tr>\n",
       "      <th>17</th>\n",
       "      <td>Thank you for contacting UNC Charlotte. Your r...</td>\n",
       "      <td>Not_Reject</td>\n",
       "    </tr>\n",
       "    <tr>\n",
       "      <th>18</th>\n",
       "      <td>Thank you for participating in new internation...</td>\n",
       "      <td>Not_Reject</td>\n",
       "    </tr>\n",
       "    <tr>\n",
       "      <th>19</th>\n",
       "      <td>Thank you for your application to HotelTonight...</td>\n",
       "      <td>Reject</td>\n",
       "    </tr>\n",
       "    <tr>\n",
       "      <th>20</th>\n",
       "      <td>As promised, we are getting back to you regard...</td>\n",
       "      <td>Reject</td>\n",
       "    </tr>\n",
       "    <tr>\n",
       "      <th>21</th>\n",
       "      <td>The power issue with the buildings identified ...</td>\n",
       "      <td>Not_Reject</td>\n",
       "    </tr>\n",
       "    <tr>\n",
       "      <th>22</th>\n",
       "      <td>Thank you for your application to Pray.com Aft...</td>\n",
       "      <td>Reject</td>\n",
       "    </tr>\n",
       "    <tr>\n",
       "      <th>23</th>\n",
       "      <td>What’s insurance all about, really? Since you ...</td>\n",
       "      <td>Not_Reject</td>\n",
       "    </tr>\n",
       "  </tbody>\n",
       "</table>\n",
       "</div>"
      ],
      "text/plain": [
       "                                                Email      Status\n",
       "0   Thank you for your keen interest and applying ...      Reject\n",
       "1   Thank you for submitting your resume to Grubhu...  Not_Reject\n",
       "2   Thank you for submitting your resume to Red Ve...      Reject\n",
       "3   Thank you for applying to the Data Scientist o...      Reject\n",
       "4   Thank you for taking your time to apply to the...      Reject\n",
       "5   My name is Sravan and I'm an IT recruiter at P...  Not_Reject\n",
       "6   Thank you very much for your recent applicatio...  Not_Reject\n",
       "7   Greetings!  I hope that you are all enjoying a...  Not_Reject\n",
       "8   Thank you for your interest in Goldman Sachs. ...  Not_Reject\n",
       "9   Your application for the Data Analyst position...  Not_Reject\n",
       "10  We have received your application for the posi...  Not_Reject\n",
       "11  Thanks for applying to IPG Mediabrands, a new ...  Not_Reject\n",
       "12  Thank you for your interest in Financial Analy...      Reject\n",
       "13  Thanks for your interest in Bank of America. W...  Not_Reject\n",
       "14  After careful review, we have decided not to m...      Reject\n",
       "15  Thank you for applying to the Data Scientist p...      Reject\n",
       "16  Installment amounts for your payment plan have...  Not_Reject\n",
       "17  Thank you for contacting UNC Charlotte. Your r...  Not_Reject\n",
       "18  Thank you for participating in new internation...  Not_Reject\n",
       "19  Thank you for your application to HotelTonight...      Reject\n",
       "20  As promised, we are getting back to you regard...      Reject\n",
       "21  The power issue with the buildings identified ...  Not_Reject\n",
       "22  Thank you for your application to Pray.com Aft...      Reject\n",
       "23  What’s insurance all about, really? Since you ...  Not_Reject"
      ]
     },
     "execution_count": 3,
     "metadata": {},
     "output_type": "execute_result"
    }
   ],
   "source": [
    "df"
   ]
  },
  {
   "cell_type": "code",
   "execution_count": 6,
   "metadata": {
    "collapsed": true
   },
   "outputs": [],
   "source": [
    "import string\n",
    "import matplotlib.pyplot as plt\n",
    "\n",
    "#converting to lowercase\n",
    "df.Email = df.Email.apply(lambda x: x.lower())\n",
    "#removing punctuations\n",
    "df.Email = df.Email.apply(lambda x: x.translate(str.maketrans('','',string.punctuation)))\n",
    "#removing numbers\n",
    "df.Email = df.Email.apply(lambda x: x.translate(str.maketrans('','','1234567890')))\n"
   ]
  },
  {
   "cell_type": "code",
   "execution_count": 7,
   "metadata": {},
   "outputs": [
    {
     "data": {
      "text/html": [
       "<div>\n",
       "<style>\n",
       "    .dataframe thead tr:only-child th {\n",
       "        text-align: right;\n",
       "    }\n",
       "\n",
       "    .dataframe thead th {\n",
       "        text-align: left;\n",
       "    }\n",
       "\n",
       "    .dataframe tbody tr th {\n",
       "        vertical-align: top;\n",
       "    }\n",
       "</style>\n",
       "<table border=\"1\" class=\"dataframe\">\n",
       "  <thead>\n",
       "    <tr style=\"text-align: right;\">\n",
       "      <th></th>\n",
       "      <th>Email</th>\n",
       "      <th>Status</th>\n",
       "    </tr>\n",
       "  </thead>\n",
       "  <tbody>\n",
       "    <tr>\n",
       "      <th>0</th>\n",
       "      <td>thank you for your keen interest and applying ...</td>\n",
       "      <td>Reject</td>\n",
       "    </tr>\n",
       "    <tr>\n",
       "      <th>1</th>\n",
       "      <td>thank you for submitting your resume to grubhu...</td>\n",
       "      <td>Not_Reject</td>\n",
       "    </tr>\n",
       "    <tr>\n",
       "      <th>2</th>\n",
       "      <td>thank you for submitting your resume to red ve...</td>\n",
       "      <td>Reject</td>\n",
       "    </tr>\n",
       "    <tr>\n",
       "      <th>3</th>\n",
       "      <td>thank you for applying to the data scientist o...</td>\n",
       "      <td>Reject</td>\n",
       "    </tr>\n",
       "    <tr>\n",
       "      <th>4</th>\n",
       "      <td>thank you for taking your time to apply to the...</td>\n",
       "      <td>Reject</td>\n",
       "    </tr>\n",
       "    <tr>\n",
       "      <th>5</th>\n",
       "      <td>my name is sravan and im an it recruiter at pr...</td>\n",
       "      <td>Not_Reject</td>\n",
       "    </tr>\n",
       "    <tr>\n",
       "      <th>6</th>\n",
       "      <td>thank you very much for your recent applicatio...</td>\n",
       "      <td>Not_Reject</td>\n",
       "    </tr>\n",
       "    <tr>\n",
       "      <th>7</th>\n",
       "      <td>greetings  i hope that you are all enjoying an...</td>\n",
       "      <td>Not_Reject</td>\n",
       "    </tr>\n",
       "    <tr>\n",
       "      <th>8</th>\n",
       "      <td>thank you for your interest in goldman sachs y...</td>\n",
       "      <td>Not_Reject</td>\n",
       "    </tr>\n",
       "    <tr>\n",
       "      <th>9</th>\n",
       "      <td>your application for the data analyst position...</td>\n",
       "      <td>Not_Reject</td>\n",
       "    </tr>\n",
       "    <tr>\n",
       "      <th>10</th>\n",
       "      <td>we have received your application for the posi...</td>\n",
       "      <td>Not_Reject</td>\n",
       "    </tr>\n",
       "    <tr>\n",
       "      <th>11</th>\n",
       "      <td>thanks for applying to ipg mediabrands a new w...</td>\n",
       "      <td>Not_Reject</td>\n",
       "    </tr>\n",
       "    <tr>\n",
       "      <th>12</th>\n",
       "      <td>thank you for your interest in financial analy...</td>\n",
       "      <td>Reject</td>\n",
       "    </tr>\n",
       "    <tr>\n",
       "      <th>13</th>\n",
       "      <td>thanks for your interest in bank of america we...</td>\n",
       "      <td>Not_Reject</td>\n",
       "    </tr>\n",
       "    <tr>\n",
       "      <th>14</th>\n",
       "      <td>after careful review we have decided not to mo...</td>\n",
       "      <td>Reject</td>\n",
       "    </tr>\n",
       "    <tr>\n",
       "      <th>15</th>\n",
       "      <td>thank you for applying to the data scientist p...</td>\n",
       "      <td>Reject</td>\n",
       "    </tr>\n",
       "    <tr>\n",
       "      <th>16</th>\n",
       "      <td>installment amounts for your payment plan have...</td>\n",
       "      <td>Not_Reject</td>\n",
       "    </tr>\n",
       "    <tr>\n",
       "      <th>17</th>\n",
       "      <td>thank you for contacting unc charlotte your re...</td>\n",
       "      <td>Not_Reject</td>\n",
       "    </tr>\n",
       "    <tr>\n",
       "      <th>18</th>\n",
       "      <td>thank you for participating in new internation...</td>\n",
       "      <td>Not_Reject</td>\n",
       "    </tr>\n",
       "    <tr>\n",
       "      <th>19</th>\n",
       "      <td>thank you for your application to hoteltonight...</td>\n",
       "      <td>Reject</td>\n",
       "    </tr>\n",
       "    <tr>\n",
       "      <th>20</th>\n",
       "      <td>as promised we are getting back to you regardi...</td>\n",
       "      <td>Reject</td>\n",
       "    </tr>\n",
       "    <tr>\n",
       "      <th>21</th>\n",
       "      <td>the power issue with the buildings identified ...</td>\n",
       "      <td>Not_Reject</td>\n",
       "    </tr>\n",
       "    <tr>\n",
       "      <th>22</th>\n",
       "      <td>thank you for your application to praycom afte...</td>\n",
       "      <td>Reject</td>\n",
       "    </tr>\n",
       "    <tr>\n",
       "      <th>23</th>\n",
       "      <td>what’s insurance all about really since you ju...</td>\n",
       "      <td>Not_Reject</td>\n",
       "    </tr>\n",
       "  </tbody>\n",
       "</table>\n",
       "</div>"
      ],
      "text/plain": [
       "                                                Email      Status\n",
       "0   thank you for your keen interest and applying ...      Reject\n",
       "1   thank you for submitting your resume to grubhu...  Not_Reject\n",
       "2   thank you for submitting your resume to red ve...      Reject\n",
       "3   thank you for applying to the data scientist o...      Reject\n",
       "4   thank you for taking your time to apply to the...      Reject\n",
       "5   my name is sravan and im an it recruiter at pr...  Not_Reject\n",
       "6   thank you very much for your recent applicatio...  Not_Reject\n",
       "7   greetings  i hope that you are all enjoying an...  Not_Reject\n",
       "8   thank you for your interest in goldman sachs y...  Not_Reject\n",
       "9   your application for the data analyst position...  Not_Reject\n",
       "10  we have received your application for the posi...  Not_Reject\n",
       "11  thanks for applying to ipg mediabrands a new w...  Not_Reject\n",
       "12  thank you for your interest in financial analy...      Reject\n",
       "13  thanks for your interest in bank of america we...  Not_Reject\n",
       "14  after careful review we have decided not to mo...      Reject\n",
       "15  thank you for applying to the data scientist p...      Reject\n",
       "16  installment amounts for your payment plan have...  Not_Reject\n",
       "17  thank you for contacting unc charlotte your re...  Not_Reject\n",
       "18  thank you for participating in new internation...  Not_Reject\n",
       "19  thank you for your application to hoteltonight...      Reject\n",
       "20  as promised we are getting back to you regardi...      Reject\n",
       "21  the power issue with the buildings identified ...  Not_Reject\n",
       "22  thank you for your application to praycom afte...      Reject\n",
       "23  what’s insurance all about really since you ju...  Not_Reject"
      ]
     },
     "execution_count": 7,
     "metadata": {},
     "output_type": "execute_result"
    }
   ],
   "source": [
    "df"
   ]
  },
  {
   "cell_type": "code",
   "execution_count": 8,
   "metadata": {},
   "outputs": [
    {
     "data": {
      "image/png": "[encoded data removed]",
      "text/plain": [
       "<matplotlib.figure.Figure at 0x1145de0f0>"
      ]
     },
     "metadata": {},
     "output_type": "display_data"
    }
   ],
   "source": [
    "## Visualozong number of rejects and not reject\n",
    "\n",
    "df['Status'].value_counts().plot(kind=\"bar\")\n",
    "plt.show()"
   ]
  },
  {
   "cell_type": "code",
   "execution_count": 11,
   "metadata": {},
   "outputs": [
    {
     "name": "stdout",
     "output_type": "stream",
     "text": [
      "(19, 465)\n",
      "(19,)\n",
      "(5, 465)\n",
      "(5,)\n"
     ]
    }
   ],
   "source": [
    "from sklearn.feature_extraction.text import CountVectorizer\n",
    "from sklearn.feature_extraction.text import TfidfVectorizer, TfidfTransformer\n",
    "from sklearn.preprocessing import LabelEncoder\n",
    "from sklearn.naive_bayes import MultinomialNB\n",
    "from sklearn.model_selection import train_test_split\n",
    "from sklearn.metrics import confusion_matrix\n",
    "from sklearn.metrics import classification_report\n",
    "from sklearn.model_selection import cross_val_score\n",
    "\n",
    "\n",
    "\n",
    "\n",
    "# pull the data into vectors\n",
    "vectorizer = CountVectorizer()\n",
    "x = vectorizer.fit_transform(df['Email'])\n",
    "\n",
    "\n",
    "encoder = LabelEncoder()\n",
    "y = encoder.fit_transform(df['Status'])\n",
    "\n",
    "\n",
    "\n",
    "# split into train and test sets\n",
    "x_train, x_test, y_train, y_test = train_test_split(x, y, test_size=0.2)\n",
    "\n",
    "# take a look at the shape of each of these\n",
    "print(x_train.shape)\n",
    "print(y_train.shape)\n",
    "print(x_test.shape)\n",
    "print(y_test.shape)\n",
    "\n",
    "\n"
   ]
  },
  {
   "cell_type": "code",
   "execution_count": 18,
   "metadata": {},
   "outputs": [
    {
     "name": "stdout",
     "output_type": "stream",
     "text": [
      "  (0, 417)\t1\n",
      "  (0, 415)\t1\n",
      "  (0, 38)\t1\n",
      "  (0, 146)\t1\n",
      "  (0, 198)\t1\n",
      "  (0, 312)\t1\n",
      "  (0, 422)\t1\n",
      "  (0, 322)\t1\n",
      "  (0, 27)\t1\n",
      "  (0, 268)\t1\n",
      "  (0, 223)\t1\n",
      "  (0, 406)\t1\n",
      "  (0, 115)\t1\n",
      "  (0, 425)\t1\n",
      "  (0, 163)\t1\n",
      "  (0, 306)\t1\n",
      "  (0, 418)\t3\n",
      "  (0, 258)\t1\n",
      "  (0, 196)\t1\n",
      "  (0, 212)\t1\n",
      "  (0, 215)\t1\n",
      "  (0, 405)\t1\n",
      "  (0, 85)\t1\n",
      "  (0, 180)\t1\n",
      "  (0, 87)\t1\n",
      "  :\t:\n",
      "  (23, 411)\t2\n",
      "  (23, 221)\t1\n",
      "  (23, 272)\t1\n",
      "  (23, 217)\t1\n",
      "  (23, 241)\t1\n",
      "  (23, 453)\t1\n",
      "  (23, 38)\t2\n",
      "  (23, 406)\t4\n",
      "  (23, 418)\t1\n",
      "  (23, 196)\t1\n",
      "  (23, 212)\t1\n",
      "  (23, 215)\t3\n",
      "  (23, 405)\t2\n",
      "  (23, 290)\t1\n",
      "  (23, 284)\t1\n",
      "  (23, 267)\t1\n",
      "  (23, 136)\t1\n",
      "  (23, 269)\t1\n",
      "  (23, 33)\t1\n",
      "  (23, 442)\t1\n",
      "  (23, 457)\t2\n",
      "  (23, 20)\t2\n",
      "  (23, 463)\t1\n",
      "  (23, 155)\t2\n",
      "  (23, 462)\t1\n"
     ]
    },
    {
     "data": {
      "text/plain": [
       "MultinomialNB(alpha=1.0, class_prior=None, fit_prior=True)"
      ]
     },
     "execution_count": 18,
     "metadata": {},
     "output_type": "execute_result"
    }
   ],
   "source": [
    "## Fitting Mulinomial Naive Bayes\n",
    "\n",
    "print(x)\n",
    "nb = MultinomialNB()\n",
    "nb.fit(x_train, y_train)"
   ]
  },
  {
   "cell_type": "code",
   "execution_count": 13,
   "metadata": {},
   "outputs": [
    {
     "name": "stdout",
     "output_type": "stream",
     "text": [
      "Reject\n",
      "Reject\n",
      "Not_Reject\n",
      "Not_Reject\n",
      "Not_Reject\n",
      "Not_Reject\n"
     ]
    }
   ],
   "source": [
    "def predict_reject(title):\n",
    "    category_names = {'Reject' : 'Reject', 'Not_Reject' : 'Not_Reject'}\n",
    "    cod = nb.predict(vectorizer.transform([title]))\n",
    "    return category_names[encoder.inverse_transform(cod)[0]]\n",
    "\n",
    "\n",
    "print(predict_reject(\"We hope the best for your future\"))\n",
    "print(predict_reject(\"Good Luck\"))\n",
    "print(predict_reject(\"It was great having you\"))\n",
    "\n",
    "print(predict_reject(\"For more details, refer chapter 2\"))\n",
    "print(predict_reject(\"President of USA announces a new policy\"))\n",
    "print(predict_reject(\"It was raining this morning\"))"
   ]
  },
  {
   "cell_type": "code",
   "execution_count": 28,
   "metadata": {},
   "outputs": [
    {
     "data": {
      "text/plain": [
       "1.0"
      ]
     },
     "execution_count": 28,
     "metadata": {},
     "output_type": "execute_result"
    }
   ],
   "source": [
    "from sklearn.linear_model import LogisticRegression\n",
    "from sklearn.multiclass import OneVsRestClassifier\n",
    "\n",
    "# Instantiate the classifier: clf\n",
    "clf = OneVsRestClassifier(LogisticRegression())\n",
    "\n",
    "# Fit the classifier to the training data\n",
    "clf.fit(x_train, y_train)\n",
    "ds_predict = clf.predict(x_test)\n",
    "accuracy_score(y_test, ds_predict)\n"
   ]
  },
  {
   "cell_type": "code",
   "execution_count": 15,
   "metadata": {},
   "outputs": [
    {
     "name": "stdout",
     "output_type": "stream",
     "text": [
      "             precision    recall  f1-score   support\n",
      "\n",
      " Not_Reject       1.00      1.00      1.00         1\n",
      "     Reject       1.00      1.00      1.00         4\n",
      "\n",
      "avg / total       1.00      1.00      1.00         5\n",
      "\n"
     ]
    }
   ],
   "source": [
    "x_test_clv_pred = clf.predict(x_test)\n",
    "confusion_matrix(y_test, x_test_clv_pred)\n",
    "print(classification_report(y_test, x_test_clv_pred, target_names=encoder.classes_))"
   ]
  },
  {
   "cell_type": "code",
   "execution_count": 24,
   "metadata": {},
   "outputs": [
    {
     "data": {
      "text/plain": [
       "0.59999999999999998"
      ]
     },
     "execution_count": 24,
     "metadata": {},
     "output_type": "execute_result"
    }
   ],
   "source": [
    "from sklearn import tree\n",
    "from sklearn.metrics import accuracy_score\n",
    "\n",
    "clf = tree.DecisionTreeClassifier()\n",
    "clf.fit(x_train,y_train)\n",
    "y_pred = clf.predict(x_test)\n",
    "\n",
    "accuracy_score(y_test, y_pred)\n",
    "\n"
   ]
  },
  {
   "cell_type": "code",
   "execution_count": 32,
   "metadata": {},
   "outputs": [
    {
     "data": {
      "text/plain": [
       "0.40000000000000002"
      ]
     },
     "execution_count": 32,
     "metadata": {},
     "output_type": "execute_result"
    }
   ],
   "source": [
    "from sklearn.ensemble import RandomForestClassifier\n",
    "from sklearn.datasets import make_classification\n",
    "\n",
    "\n",
    "clf = RandomForestClassifier(max_depth=2, random_state=0)\n",
    "clf.fit(x_train, y_train)\n",
    "\n",
    "rf_pred = clf.predict(x_test)\n",
    "\n",
    "accuracy_score(y_test,rf_pred)"
   ]
  },
  {
   "cell_type": "code",
   "execution_count": null,
   "metadata": {
    "collapsed": true
   },
   "outputs": [],
   "source": []
  }
 ],
 "metadata": {
  "kernelspec": {
   "display_name": "Python 3",
   "language": "python",
   "name": "python3"
  },
  "language_info": {
   "codemirror_mode": {
    "name": "ipython",
    "version": 3
   },
   "file_extension": ".py",
   "mimetype": "text/x-python",
   "name": "python",
   "nbconvert_exporter": "python",
   "pygments_lexer": "ipython3",
   "version": "3.6.2"
  }
 },
 "nbformat": 4,
 "nbformat_minor": 2
}
